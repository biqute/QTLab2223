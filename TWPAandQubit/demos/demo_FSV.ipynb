{
 "cells": [
  {
   "cell_type": "code",
   "execution_count": null,
   "metadata": {},
   "outputs": [],
   "source": [
    "\"\"\"ESTABLISH A CONNECTION WITH THE DEVICE\"\"\"\n",
    "from ..src.fsv import *\n",
    "import pyvisa\n",
    "from RsInstrument import *\n",
    "\n",
    "resource = 'TCPIP0::192.168.3.50::INSTR'\n",
    "instrument = fsv.ManageFSV(resource) "
   ]
  },
  {
   "cell_type": "code",
   "execution_count": null,
   "metadata": {},
   "outputs": [],
   "source": [
    "\"\"\"SET THE DESIRED PARAMETER BEFORE PERFORMING THE MEASUREMENTS\"\"\"\n",
    "# Set [fmin,fmax] that is the frequency interval along which the scans are performed\n",
    "fmin = 1e9\n",
    "fmax = 3e9\n",
    "# Set the number of equally spaced frequencies in the interval [fmin,fmax] sampled at each scan\n",
    "npoints = 10\n",
    "# Set the number of measurements that are averaged\n",
    "navgs = 2"
   ]
  },
  {
   "cell_type": "code",
   "execution_count": null,
   "metadata": {},
   "outputs": [],
   "source": [
    "\"\"\"\n",
    "PERFORM THE MEASURE\n",
    "\"\"\"\n",
    "freq, trace = instrument.single_scan(fmin,fmax,npoints,navgs)"
   ]
  }
 ],
 "metadata": {
  "kernelspec": {
   "display_name": "base",
   "language": "python",
   "name": "python3"
  },
  "language_info": {
   "codemirror_mode": {
    "name": "ipython",
    "version": 3
   },
   "file_extension": ".py",
   "mimetype": "text/x-python",
   "name": "python",
   "nbconvert_exporter": "python",
   "pygments_lexer": "ipython3",
   "version": "3.9.12 (main, Apr  4 2022, 05:22:27) [MSC v.1916 64 bit (AMD64)]"
  },
  "orig_nbformat": 4,
  "vscode": {
   "interpreter": {
    "hash": "e03b612d84ba21ce95ed447e81b3062e1eb99b56c6d885cdab4aaa12f1b8e240"
   }
  }
 },
 "nbformat": 4,
 "nbformat_minor": 2
}

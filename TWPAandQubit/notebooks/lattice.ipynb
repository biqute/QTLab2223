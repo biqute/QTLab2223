{
 "cells": [
  {
   "cell_type": "code",
   "execution_count": null,
   "metadata": {},
   "outputs": [],
   "source": [
    "\"\"\"ESTABLISH A CONNECTION WITH THE DEVICES\"\"\"\n",
    "import vna\n",
    "IP = \"192.168.3.51\"\n",
    "timeout = 25e3\n",
    "max_npoints = 1e3\n",
    "instr_vna = vna.ManageVNA(IP,timeout,max_npoints)\n",
    "import sma\n",
    "resource = 'TCPIP0::192.168.3.2::INSTR'\n",
    "instr_sma = sma.ManageSMA(resource)\n",
    "import sim\n",
    "resource = 'ASRL34::INSTR'\n",
    "instr_sim = sim.ManageSIM(resource)"
   ]
  },
  {
   "cell_type": "code",
   "execution_count": null,
   "metadata": {},
   "outputs": [],
   "source": [
    "import time\n",
    "import numpy as np\n",
    "from many_instruments import *\n",
    "import h5py"
   ]
  },
  {
   "cell_type": "code",
   "execution_count": null,
   "metadata": {},
   "outputs": [],
   "source": [
    "\"\"\"If the Bias stops responding, you should close the connection and reopen it, it seems to work\"\"\"\n",
    "def reopen_sim(instr_sim):\n",
    "    instr_sim.close()\n",
    "    time.sleep(4)\n",
    "    resource = 'ASRL34::INSTR'\n",
    "    new_instr = sim.ManageSIM(resource)\n",
    "    time.sleep(4)\n",
    "    return new_instr"
   ]
  },
  {
   "cell_type": "code",
   "execution_count": null,
   "metadata": {},
   "outputs": [],
   "source": [
    "\"\"\"Prepare VNA\"\"\"\n",
    "port = \"S21\"\n",
    "IFBW = 1e2 #[Hz]\n",
    "powerdBm = -15 #[dBm]\n",
    "\n",
    "instr_vna.reset()\n",
    "instr_vna.set_mode(\"NA\")\n",
    "time.sleep(1)\n",
    "instr_vna.set_port(port)\n",
    "time.sleep(1)\n",
    "instr_vna.set_IFBW(IFBW)"
   ]
  },
  {
   "cell_type": "code",
   "execution_count": null,
   "metadata": {},
   "outputs": [],
   "source": [
    "\"\"\"SCAN (VNA) parameters \"\"\"\n",
    "# The scan params are specified in each dataset name\n",
    "\n",
    "fmin = 1e9\n",
    "fmax = 14e9\n",
    "npoints = 401\n",
    "navgs = 1"
   ]
  },
  {
   "cell_type": "code",
   "execution_count": null,
   "metadata": {},
   "outputs": [],
   "source": [
    "\"\"\"Choose where SAVE results\"\"\"\n",
    "filename = \"10_03_DOPO_RISC.h5\""
   ]
  },
  {
   "cell_type": "code",
   "execution_count": null,
   "metadata": {},
   "outputs": [],
   "source": [
    "\"\"\"Simulation parameters\"\"\"\n",
    "# Pump\n",
    "freq_start = 15.5e9\n",
    "freq_stop = 17e9\n",
    "\n",
    "ampl_min = -20\n",
    "ampl_max = -20\n",
    "# Bias\n",
    "R = 434 #[ +-1 Ohm ] #Calculated with multimeter and verifiyed measuring current with amperometer\n",
    "i_min = 0.76e-3\n",
    "i_max = 0.76e-3\n",
    "volt_min = R*i_min\n",
    "volt_max = R*i_max\n",
    "\n",
    "# Points densities\n",
    "n_freq = 20\n",
    "n_ampl = 1\n",
    "n_volt = 1\n",
    "\n",
    "freqs = np.linspace(freq_start, freq_stop, n_freq) \n",
    "ampls = np.linspace(ampl_min, ampl_max, n_ampl)\n",
    "volts = np.linspace(volt_min, volt_max, n_volt)\n",
    "\n",
    "\n",
    "#volts = [0.227, 0.277, 0.327, 0.377, 0.427]\n",
    "#n_volt = len(volts)\n",
    "#instr_vna.set_range(10000000000,14000000000)"
   ]
  },
  {
   "cell_type": "code",
   "execution_count": null,
   "metadata": {},
   "outputs": [],
   "source": [
    "\"\"\"Save simulation parameters in a dataset 'parameters' \"\"\"\n",
    "name_array = [\"powerdBm\",\"freq_start\",\"freq_stop\",\"ampl_min\",\"ampl_max\",\"volt_min\",\"volt_max\",\"n_freq\",\"n_ampl\",\"n_volt\",\"navgs\",\"R\"]\n",
    "value_array = [str(powerdBm),str(freq_start),str(freq_stop),str(ampl_min),str(ampl_max),str(volt_min),str(volt_max),str(n_freq),str(n_ampl),str(n_volt),str(navgs),str(R)]\n",
    "hf = h5py.File(filename, 'a')\n",
    "mat = [name_array, value_array]\n",
    "hf.create_dataset(\"parameters\", data = mat)\n",
    "hf.close()"
   ]
  },
  {
   "cell_type": "code",
   "execution_count": null,
   "metadata": {},
   "outputs": [],
   "source": [
    "\"\"\"Save a measure with all the devices OFF\"\"\"\n",
    "### Save the 'Off' measure\n",
    "# Turn Off Pump and Bias\n",
    "instr_sma.set_output(0)\n",
    "try:\n",
    "    out = instr_sim.set_output(0)\n",
    "except:\n",
    "    out = instr_sim.set_output(0)\n",
    "    instr_sim = reopen_sim(instr_sim)\n",
    "if out != \"0\":\n",
    "    print(\"Bias not responding!\")\n",
    "    instr_sim = reopen_sim(instr_sim)\n",
    "    instr_sim.set_output(0)\n",
    "\n",
    "acquire_S21(instr_vna,fmin,fmax,powerdBm,npoints,navgs,filename,\"Off\")\n",
    "\n",
    "### Turn on the SMA (Pump)\n",
    "# Before we set 'safe' values\n",
    "instr_sma.set_freq(16e9)\n",
    "instr_sma.set_amplitude(-30)\n",
    "instr_sma.set_output(1)\n",
    "\n",
    "## Turn on the SIM (Bias)\n",
    "\n",
    "try:\n",
    "    out = instr_sim.set_output(1)\n",
    "except:\n",
    "    instr_sim = reopen_sim(instr_sim)\n",
    "    out = instr_sim.set_output(1)\n",
    "if out != \"1\":\n",
    "    print(\"Bias not responding!\")\n",
    "    instr_sim = reopen_sim(instr_sim)\n",
    "    instr_sim.set_output(1)"
   ]
  },
  {
   "cell_type": "code",
   "execution_count": null,
   "metadata": {},
   "outputs": [],
   "source": [
    "\"\"\"SIMULATION\"\"\"\n",
    "wait_meter = 0.1    # Time (in seconds) the code waits between changing a parameter and making the successive measure\n",
    "sim_out_volt = \"\"\n",
    "sim_out_output = \"\"\n",
    "for k in np.arange(n_volt) :\n",
    "    time.sleep(wait_meter)\n",
    "    try:\n",
    "        instr_sim.set_voltage(round(volts[k],3))\n",
    "\n",
    "        # Ask actual voltage\n",
    "        if instr_sim.get_voltage() != str(round(volts[k],3)):\n",
    "            print(\"Cannot change Bias voltage\")\n",
    "            instr_sim = reopen_sim(instr_sim)\n",
    "            # Ask actual voltage\n",
    "            instr_sim.set_voltage(round(volts[k],3))\n",
    "    except:\n",
    "        instr_sim = reopen_sim(instr_sim)\n",
    "        instr_sim.set_voltage(round(volts[k],3))\n",
    "        \n",
    "        try:\n",
    "            # Ask actual voltage\n",
    "            if instr_sim.get_voltage() != str(round(volts[k],3)):\n",
    "                print(\"Cannot change Bias voltage\")\n",
    "                instr_sim = reopen_sim(instr_sim)\n",
    "                # Ask actual voltage\n",
    "                instr_sim.set_voltage(round(volts[k],3))\n",
    "        except:\n",
    "            instr_sim = reopen_sim(instr_sim)\n",
    "            if instr_sim.get_voltage() != str(round(volts[k],3)):\n",
    "                print(\"Cannot change Bias voltage\")\n",
    "                instr_sim = reopen_sim(instr_sim)\n",
    "                # Ask actual voltage\n",
    "                instr_sim.set_voltage(round(volts[k],3))\n",
    "        \n",
    "    for j in np.arange(n_ampl) :\n",
    "        time.sleep(wait_meter)\n",
    "        instr_sma.set_amplitude(ampls[j])\n",
    "        for i in np.arange(n_freq) :\n",
    "            time.sleep(wait_meter)\n",
    "            instr_sma.set_freq(freqs[i])\n",
    "            group = \"dc_\" + str(k) + \"/pumpfreq_\" + str(i) + \"/pumppow_\" + str(j)\n",
    "            #freq, I, Q = instr_vna.single_scan(fmin,fmax,powerdBm,npoints,navgs)\n",
    "            acquire_S21(instr_vna,fmin,fmax,powerdBm,npoints,navgs,filename,group)\n",
    "            \n",
    "\n",
    "            # #Write\n",
    "            # Mat = [freq,I,Q]\n",
    "            # dataset_name = \"dataset_\" + str(index)\n",
    "            # hf.create_dataset(dataset_name, data=Mat)\n",
    "            # index = index + 1\n",
    "\n",
    "\"\"\"Turn OFF Pump and Bias\"\"\"\n",
    "instr_sma.set_output(0) # Pump Off\n",
    "\n",
    "\n",
    "try:\n",
    "    out = instr_sim.set_output(0)\n",
    "except:\n",
    "    instr_sim = reopen_sim(instr_sim)\n",
    "    out = instr_sim.set_output(0)\n",
    "if out != \"0\":\n",
    "    print(\"Bias not responding!\")\n",
    "    instr_sim = reopen_sim(instr_sim)\n",
    "    instr_sim.set_output(0)"
   ]
  },
  {
   "cell_type": "code",
   "execution_count": null,
   "metadata": {},
   "outputs": [],
   "source": [
    "\"\"\"Save a measure with all the devices OFF\"\"\"\n",
    "### Save the 'Off' measure \n",
    "acquire_S21(instr_vna,fmin,fmax,powerdBm,npoints,navgs,filename,\"Off_end\")"
   ]
  },
  {
   "cell_type": "code",
   "execution_count": null,
   "metadata": {},
   "outputs": [],
   "source": [
    "instr_sim.close()\n",
    "instr_sma.close()\n",
    "instr_vna.close()"
   ]
  }
 ],
 "metadata": {
  "kernelspec": {
   "display_name": "Python 3.8.8 64-bit",
   "language": "python",
   "name": "python3"
  },
  "language_info": {
   "codemirror_mode": {
    "name": "ipython",
    "version": 3
   },
   "file_extension": ".py",
   "mimetype": "text/x-python",
   "name": "python",
   "nbconvert_exporter": "python",
   "pygments_lexer": "ipython3",
   "version": "3.8.8"
  },
  "orig_nbformat": 4,
  "vscode": {
   "interpreter": {
    "hash": "189b550c5a54b5087499bdd5ba77e857e00a6effe232207122d63c93e93ce421"
   }
  }
 },
 "nbformat": 4,
 "nbformat_minor": 2
}

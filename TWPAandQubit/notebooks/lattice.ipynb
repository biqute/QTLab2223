{
 "cells": [
  {
   "attachments": {},
   "cell_type": "markdown",
   "metadata": {},
   "source": [
    "This script makes an S21 measure in a user specified frequency range, for each \"triplet\" of values for:\n",
    "\n",
    "- DC voltage\n",
    "\n",
    "- Pump power\n",
    "\n",
    "- Pump frequency\n",
    "\n",
    "\n",
    "extracted form user specified 3d lattice (3 intervals), in order to find the \"optimal parameters\" for the PARAMP"
   ]
  },
  {
   "cell_type": "code",
   "execution_count": 2,
   "metadata": {},
   "outputs": [],
   "source": [
    "\"\"\"ESTABLISH A CONNECTION WITH THE 3 DEVICES\n",
    "   -DC generator\n",
    "   -AC generator (Pump)\n",
    "   -VNA\n",
    "\"\"\"\n",
    "\n",
    "# DC generator\n",
    "import ..src.sim\n",
    "resource = 'ASRL34::INSTR'\n",
    "instr_sim = sim.ManageSIM(resource)\n",
    "\n",
    "# VNA\n",
    "import ..src.vna\n",
    "IP = \"192.168.3.51\"\n",
    "instr_vna = vna.ManageVNA(IP)\n",
    "\n",
    "# AC generator (Pump)\n",
    "import ..src.sma\n",
    "resource = 'TCPIP0::192.168.3.2::INSTR'\n",
    "instr_sma = sma.ManageSMA(resource)"
   ]
  },
  {
   "cell_type": "code",
   "execution_count": 13,
   "metadata": {},
   "outputs": [],
   "source": [
    "\"\"\"SET RANGES FOR PARAMETERS VARIATION\"\"\"\n",
    "\n",
    "import numpy as np\n",
    "\n",
    "# Pump frequency\n",
    "freq_range = [11e9, 13e9] #[Hz]\n",
    "# Pump output power\n",
    "ampl_range = [-40, -20] #[dBm]\n",
    "# DC voltage\n",
    "volt_range = [0.4, 0.5] #[V]\n",
    "\n",
    "# Number of equispaced sampled point in the ranges\n",
    "n_freq = 5\n",
    "n_ampl = 2\n",
    "n_volt = 2\n",
    "freqs = np.linspace(freq_range[0],freq_range[1], n_freq) \n",
    "ampls = np.linspace(ampl_range[0],ampl_range[1], n_ampl)\n",
    "volts = np.linspace(volt_range[0],volt_range[1], n_volt)\n",
    "\n",
    "# Set the VNA scan parameters\n",
    "# [The scan is performed after each parameter variation]\n",
    "fmin = 30e3 #[Hz]\n",
    "fmax = 14e9 #[Hz]\n",
    "npoints = 100\n",
    "navgs = 2\n",
    "powerdBm = -40 #[dBm]\n",
    "\n",
    "# Turn ON DC and Pump output\n",
    "instr_sma.set_output(1)\n",
    "instr_sim.set_output(1)"
   ]
  },
  {
   "cell_type": "code",
   "execution_count": 14,
   "metadata": {},
   "outputs": [],
   "source": [
    "\"\"\"CYCLE THE 3 PARAMETERS AND SAVE S21 MEASUREMENTS TO .h5 FILE\"\"\"\n",
    "#NOTe: Before we MUST select manually the S21 port!!!\n",
    "\n",
    "\n",
    "import time\n",
    "import h5py\n",
    "import sys\n",
    "\n",
    "# Open a NEW .h5 file where measures will be stored\n",
    "filename = \"data.h5\"    # CHANGE EACH TIME!\n",
    "hf = h5py.File('data.h5', 'w')\n",
    "# Check if the file already exists\n",
    "if(len(hf.keys()) > 0):\n",
    "    hf.close()\n",
    "    sys.exit(\"Cannot create .h5 file with this name. A file named \" + str(filename) + \"already exists!\")\n",
    "# Define an index to enumerate measurements\n",
    "# [necessary to recover values assigned to the parameters\n",
    "# for each measurement]\n",
    "index = 0\n",
    "# Set ranges of the variyng parameters [necessary for recovering]\n",
    "params_mat = [freqs, ampls, volts]\n",
    "dataset_name = \"params\"\n",
    "hf.create_dataset(dataset_name, data = params_mat)\n",
    "# Define how many second wait between a query and\n",
    "# the next one\n",
    "query_time = 1 #[seconds]\n",
    "\n",
    "\n",
    "# Cycle over all combinations of the 3 parameters\n",
    "for volt in volts:\n",
    "    time.sleep(query_time)\n",
    "    instr_sim.set_voltage(volt) #Update DC voltage\n",
    "    for ampl in ampls:\n",
    "        time.sleep(query_time)\n",
    "        instr_sma.set_amplitude(ampl)   #Update Pump power (amplitude)\n",
    "        for freq in freqs:\n",
    "            time.sleep(query_time)\n",
    "            instr_sma.set_freq(freq)    #Update Pump frequency\n",
    "    \n",
    "            #Scan S21\n",
    "            freq, I, Q = instr_vna.single_scan(fmin,fmax,powerdBm,npoints,navgs)\n",
    "             \n",
    "            #Write scan resuts to .h5 file\n",
    "            #each measurement is a dataset made of 3 arrays: freq, I, Q\n",
    "            #datasets are labeled by and index: \"dataset_$index\"\n",
    "            Mat = [freq,I,Q]\n",
    "            dataset_name = \"measure_\" + str(index)\n",
    "            hf.create_dataset(dataset_name, data=Mat)\n",
    "            index = index + 1   #Update index that labels measurements\n",
    "\n",
    "hf.close()  #Close the file where we wrote the measurements"
   ]
  },
  {
   "cell_type": "code",
   "execution_count": null,
   "metadata": {},
   "outputs": [],
   "source": [
    "\"\"\"READ MEASUREMENTS FROM FILE\"\"\"\n",
    "#filename = \"data.h5\"\n",
    "hf = h5py.File(filename, 'r')\n",
    "index = 3\n",
    "dataset_name = \"dataset_\" + str(index)\n",
    "val = hf.get(dataset_name)"
   ]
  }
 ],
 "metadata": {
  "kernelspec": {
   "display_name": "Python 3",
   "language": "python",
   "name": "python3"
  },
  "language_info": {
   "codemirror_mode": {
    "name": "ipython",
    "version": 3
   },
   "file_extension": ".py",
   "mimetype": "text/x-python",
   "name": "python",
   "nbconvert_exporter": "python",
   "pygments_lexer": "ipython3",
   "version": "3.7.3"
  },
  "orig_nbformat": 4,
  "vscode": {
   "interpreter": {
    "hash": "04bcfaed1d5947c55ec395d6cc5902842b350954a43df2458331a2319f32184d"
   }
  }
 },
 "nbformat": 4,
 "nbformat_minor": 2
}

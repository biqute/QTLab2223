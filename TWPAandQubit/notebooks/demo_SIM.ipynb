{
 "cells": [
  {
   "cell_type": "code",
   "execution_count": null,
   "metadata": {},
   "outputs": [],
   "source": [
    "\"\"\"ESTABLISH A CONNECTION WITH THE DEVICE\"\"\"\n",
    "from ..src.sim import *\n",
    "import pyvisa\n",
    "\n",
    "resource = 'ASRL34::INSTR'\n",
    "sim_instr = sim.ManageSIM(resource)"
   ]
  },
  {
   "cell_type": "code",
   "execution_count": null,
   "metadata": {},
   "outputs": [],
   "source": [
    "\"\"\"SET THE DESIRED VOLTAGE\"\"\"\n",
    "voltage = 0.350 #[Volt]\n",
    "sim_instr.set_voltage(voltage)\n",
    "\n",
    "\"\"\"OPEN/CLOSE OUTPUT\"\"\"\n",
    "output = 1  # 1: On, 0: Off\n",
    "sim_instr.set_output(output)"
   ]
  }
 ],
 "metadata": {
  "kernelspec": {
   "display_name": "base",
   "language": "python",
   "name": "python3"
  },
  "language_info": {
   "codemirror_mode": {
    "name": "ipython",
    "version": 3
   },
   "file_extension": ".py",
   "mimetype": "text/x-python",
   "name": "python",
   "nbconvert_exporter": "python",
   "pygments_lexer": "ipython3",
   "version": "3.9.12 (main, Apr  4 2022, 05:22:27) [MSC v.1916 64 bit (AMD64)]"
  },
  "orig_nbformat": 4,
  "vscode": {
   "interpreter": {
    "hash": "e03b612d84ba21ce95ed447e81b3062e1eb99b56c6d885cdab4aaa12f1b8e240"
   }
  }
 },
 "nbformat": 4,
 "nbformat_minor": 2
}

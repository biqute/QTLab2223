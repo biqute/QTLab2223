{
 "cells": [
  {
   "cell_type": "code",
   "execution_count": null,
   "metadata": {},
   "outputs": [],
   "source": [
    "\"\"\"ESTABLISH A CONNECTION WITH THE DEVICES\"\"\"\n",
    "from ..src.fsv import *\n",
    "from ..src.sma import *\n",
    "import pyvisa\n",
    "from RsInstrument import *\n",
    "\n",
    "resource = 'TCPIP0::192.168.3.50::INSTR'\n",
    "instrFSV = ManageFSV(resource)\n",
    "resource = 'TCPIP0::192.168.3.2::INSTR'\n",
    "instrSMA = ManageSMA(resource) "
   ]
  },
  {
   "cell_type": "code",
   "execution_count": 5,
   "metadata": {},
   "outputs": [],
   "source": [
    "\"\"\"SET THE DESIRED PARAMETER BEFORE PERFORMING THE MEASUREMENTS\"\"\"\n",
    "# Set [fmin,fmax] that is the frequency interval along which the scans are performed\n",
    "fmin = 17e9\n",
    "fmax = 19e9\n",
    "# Set the number of equally spaced frequencies in the interval [fmin,fmax] sampled at each scan\n",
    "npoints = 1000\n",
    "# Set the number of measurements that are averaged\n",
    "navgs = 10\n",
    "# Number of scanned frequencies\n",
    "nfreqs = 1000\n",
    "\n",
    "input_powerdBm = -10  #[dBm]\n"
   ]
  },
  {
   "cell_type": "code",
   "execution_count": null,
   "metadata": {},
   "outputs": [],
   "source": [
    "from ..src.many_instruments import *\n",
    "filename = \"S21_readings.h5\"\n",
    "group = \"/\"\n",
    "manual_S21(instrFSV,instrSMA,input_powerdBm,fmin,fmax,nfreqs,filename,group,npoints,navgs)"
   ]
  }
 ],
 "metadata": {
  "kernelspec": {
   "display_name": "Python 3",
   "language": "python",
   "name": "python3"
  },
  "language_info": {
   "codemirror_mode": {
    "name": "ipython",
    "version": 3
   },
   "file_extension": ".py",
   "mimetype": "text/x-python",
   "name": "python",
   "nbconvert_exporter": "python",
   "pygments_lexer": "ipython3",
   "version": "3.7.3"
  },
  "orig_nbformat": 4,
  "vscode": {
   "interpreter": {
    "hash": "04bcfaed1d5947c55ec395d6cc5902842b350954a43df2458331a2319f32184d"
   }
  }
 },
 "nbformat": 4,
 "nbformat_minor": 2
}

{
 "cells": [
  {
   "attachments": {},
   "cell_type": "markdown",
   "metadata": {},
   "source": [
    "- NOTE!: HERE We ASSUME that the datasets contains already S21, NOT the output power. We keep track of input power in each the dataset name."
   ]
  },
  {
   "attachments": {},
   "cell_type": "markdown",
   "metadata": {},
   "source": [
    "Libraries and functions found on web to display content of a .h5 file"
   ]
  },
  {
   "cell_type": "code",
   "execution_count": null,
   "metadata": {},
   "outputs": [],
   "source": [
    "import h5py\n",
    "import numpy as np\n",
    "from h5utils import *\n",
    "import matplotlib.pyplot as plt\n",
    "import sys"
   ]
  },
  {
   "cell_type": "code",
   "execution_count": null,
   "metadata": {},
   "outputs": [],
   "source": [
    "filename = \"03_03_4-8Ghz_50pts.h5\";   # Change HERE!!!"
   ]
  },
  {
   "attachments": {},
   "cell_type": "markdown",
   "metadata": {},
   "source": [
    "Here you can see the content of the file"
   ]
  },
  {
   "cell_type": "code",
   "execution_count": null,
   "metadata": {},
   "outputs": [],
   "source": [
    "\"\"\"PRINT ALL the .h5 file directories\"\"\"\n",
    "h5dump(filename,group = \"/\")"
   ]
  },
  {
   "cell_type": "code",
   "execution_count": null,
   "metadata": {},
   "outputs": [],
   "source": [
    "\"\"\"Get simulation parameters\"\"\"\n",
    "params_names, params_values = getDatasetValue(filename,\"/\",0)\n",
    "\n",
    "# Print [Check if the order of paramerers is the same of the assegnation below!]\n",
    "for i in np.arange(0,len(params_names)):\n",
    "    print(str(params_names[i].decode(\"utf-8\")),\": \",str(params_values[i].decode(\"utf-8\")))\n",
    "\n",
    "# Vna\n",
    "powerdBm = params_values[0] #[dBm]\n",
    "navgs = params_values[3]\n",
    "# Pump\n",
    "freq_start = float(params_values[1])/1e9 #[GHz]\n",
    "freq_stop = float(params_values[2])/1e9 #[Ghz]\n",
    "ampl_min = float(params_values[3]) #[dBm]\n",
    "ampl_max = float(params_values[4]) #[dBm]\n",
    "# Bias\n",
    "volt_min = float(params_values[5]) #[V]\n",
    "volt_max = float(params_values[6]) #[V]\n",
    "R = float(params_values[len(params_values)-1])\n",
    "# You could retrieve current from resistance\n",
    "\n",
    "# Points densities\n",
    "n_freq = int(params_values[7])\n",
    "n_ampl = int(params_values[8])\n",
    "n_volt = int(params_values[9])\n",
    "\n",
    "freqs = np.linspace(freq_start, freq_stop, n_freq) \n",
    "ampls = np.linspace(ampl_min, ampl_max, n_ampl)\n",
    "volts = np.linspace(volt_min, volt_max, n_volt)\n",
    "#volts = [0.227, 0.277, 0.327, 0.377, 0.427]\n",
    "\n",
    "\"\"\"Print parameters arrays\"\"\"\n",
    "print(\"\\n\\nIndex:\\n\")\n",
    "temp_str = \"\"\n",
    "volt_cifers = 3\n",
    "for i in np.arange(0,n_volt):\n",
    "    temp_str = temp_str + \"[\" + str(i) + \"] \" + str(round(volts[i], volt_cifers)) + \"; \"\n",
    "print(\"Bias Voltage (V): \",temp_str)\n",
    "\n",
    "temp_str = \"\"\n",
    "freq_cifers = 3\n",
    "for i in np.arange(0,n_freq):\n",
    "    temp_str = temp_str + \"[\" + str(i) + \"] \" + str(round(freqs[i], freq_cifers)) + \"; \"\n",
    "print(\"Pump frequency (GHz): \",temp_str)\n",
    "\n",
    "temp_str = \"\"\n",
    "ampl_cifers = 3\n",
    "for i in np.arange(0,n_ampl):\n",
    "    temp_str = temp_str + \"[\" + str(i) + \"] \" + str(round(ampls[i], ampl_cifers)) + \"; \"\n",
    "print(\"Pump power (dBm): \",temp_str)"
   ]
  },
  {
   "cell_type": "code",
   "execution_count": null,
   "metadata": {},
   "outputs": [],
   "source": [
    "\"\"\"Plot (and get) a specific measure\"\"\"\n",
    "dc_volt_index = 19\n",
    "pump_freq_index = 0\n",
    "pump_pow_index = 0\n",
    "\n",
    "\n",
    "group = \"/dc_\" + str(dc_volt_index) + \"/pumpfreq_\" + str(pump_freq_index) + \"/pumppow_\" + str(pump_pow_index)\n",
    "\n",
    "fmin = 1e9\n",
    "fmax = 14e9\n",
    "\n",
    "#group = \"Off\"\n",
    "\n",
    "print(\"Simulation parameters: \")\n",
    "print(\"Bias voltage: \", str(round(volts[dc_volt_index], volt_cifers)), \" V\")\n",
    "print(\"Pump frequency: \", str(round(freqs[pump_freq_index], freq_cifers)), \" GHz\")\n",
    "print(\"Pump power: \", str(round(ampls[pump_pow_index], ampl_cifers)), \"dBm\")\n",
    "fig, ax = plotDatasetSpectrum(filename, group, 0, fmin, fmax)\n",
    "xs, ys = getDatasetValue(filename, group, 0)\n",
    "\n",
    "xoff, yoff = getDatasetValue(filename,\"Off\",0)\n",
    "\n",
    "fig2, ax2 = plt.subplots()\n",
    "ax2.plot(xs,ys-yoff)\n",
    "ax2.set_title(\"Difference between Off measure\")"
   ]
  },
  {
   "cell_type": "code",
   "execution_count": null,
   "metadata": {},
   "outputs": [],
   "source": [
    "\"\"\"Check Bias and Pump OFF pre and after\"\"\"\n",
    "\n",
    "fig, ax = plt.subplots()\n",
    "xs, yoff1 = getDatasetValue(filename,\"Off\",0)\n",
    "xs, yoff2 = getDatasetValue(filename,\"Off_end\",0)\n",
    "ax.plot(xs[100:220]/1e9,yoff2[100:220]-yoff1[100:220])\n",
    "ax.set_title(\"Difference between ALL OFF measurements\\ntaken at the beginning and at the end\")\n",
    "ax.set_xlabel(\"frequency [GHz]\")\n",
    "ax.set_ylabel(\"gain [dBm]\")"
   ]
  },
  {
   "attachments": {},
   "cell_type": "markdown",
   "metadata": {},
   "source": [
    "NOTE!: Both 'Off' measurement and 'On' measurements need to be present in the SAME .h5 file and must be taken adopting the same parameters for the VNA!"
   ]
  },
  {
   "attachments": {},
   "cell_type": "markdown",
   "metadata": {},
   "source": [
    "- Consider many selected measurements (all the ones associated to the chosen parameters)\n",
    "- Subtract the 'Off' measure\n",
    "- Plot all those measurements on the same canvas in the desired span [ fmin,fmax ]"
   ]
  },
  {
   "cell_type": "code",
   "execution_count": null,
   "metadata": {},
   "outputs": [],
   "source": [
    "\"\"\"Gain of some selected experiments\"\"\"\n",
    "voltage_indexes = [0]\n",
    "frequency_indexes = [0,5,10,19]\n",
    "power_indexes = [0]\n",
    "\n",
    "fmin = 5e9 #[GHz]\n",
    "fmax = 8e9 #[GHz]\n",
    "fspan = fmax - fmin\n",
    "\n",
    "\n",
    "fig, ax = plt.subplots()\n",
    "# Get 'Off' measurement (will be subtracted to all measurements)\n",
    "xoff, yoff = getDatasetValue(filename, \"/Off\", 0)\n",
    "# Check if the frequency span [fmin,fmax] is valid\n",
    "if xoff[0] <= fmin and xoff[len(xoff)-1] >= fmax:\n",
    "    print(\"Band: [\",round(fmin/1e9,freq_cifers),\", \",round(fmax/1e9,freq_cifers),\"] GHz\")\n",
    "else:\n",
    "    print(\"Invalid frequency span!\")\n",
    "    exit()\n",
    "# Get i_min, i_max for the defined band\n",
    "df = xoff[1] - xoff[0]\n",
    "i_min = round((fmin - xoff[0])/df)\n",
    "i_max = round(len(xoff) - 1 - (xoff[len(xoff)-1] - fmax)/df)\n",
    "n_pts = i_max - i_min\n",
    "\n",
    "for k in voltage_indexes:\n",
    "    for j in power_indexes:\n",
    "        for i in frequency_indexes:\n",
    "            # Get desired dataset\n",
    "            group = \"/dc_\" + str(k) + \"/pumpfreq_\" + str(i) + \"/pumppow_\" + str(j)\n",
    "            print(group)\n",
    "            temp_xs, temp_ys = getDatasetValue(filename, group, 0)\n",
    "            # Remove the 'Off' measurement\n",
    "            temp_ys = temp_ys - yoff\n",
    "\n",
    "            # Focus on the defined BAND\n",
    "            xs = temp_xs[i_min:i_max]\n",
    "            ys = temp_ys[i_min:i_max]\n",
    "\n",
    "            # Plot S21 in the desired Fspan and get 'gain band average'\n",
    "            ax.plot(xs/1e9,ys,label=(str(round(volts[k],volt_cifers))+\"V,\"+str(round(ampls[j],ampl_cifers))+\"dBm,\"+str(round(freqs[i],freq_cifers))+\"GHz, pts\"+str(n_pts)))\n",
    "\n",
    "ax.legend(loc='center left', bbox_to_anchor=(1, 0.5))\n",
    "ax.grid()\n",
    "ax.set_xlabel(\"Signal frequency [GHz]\")\n",
    "ax.set_ylabel(\"S21\")\n",
    "ax.set_title(\"Paramp gain\\n['Off' measurement subtracted]\")"
   ]
  },
  {
   "attachments": {},
   "cell_type": "markdown",
   "metadata": {},
   "source": [
    "Find optimal parameters among *ALL* the measurements in the .h5 file"
   ]
  },
  {
   "cell_type": "code",
   "execution_count": null,
   "metadata": {},
   "outputs": [],
   "source": [
    "\"\"\"BEST PARAMETERS\"\"\"\n",
    "\n",
    "fmin = 5e9 #[GHz]\n",
    "fmax = 8e9 #[GHz]\n",
    "fspan = fmax - fmin\n",
    "\n",
    "\n",
    "# Get 'Off' measurement (will be subtracted to all measurements)\n",
    "#xoff, yoff = getDatasetValue(filename, \"/Off\", 0)\n",
    "group = \"/dc_\" + \"0\" + \"/pumpfreq_\" + \"0\" + \"/pumppow_\" + \"0\"\n",
    "#xoff, yoff = getDatasetValue(filename, group, 0)\n",
    "#yoff = np.zeros(len(yoff))\n",
    "\n",
    "# Check if the frequency span [fmin,fmax] is valid\n",
    "if xoff[0] <= fmin and xoff[len(xoff)-1] >= fmax:\n",
    "    print(\"Band: [\",round(fmin/1e9,freq_cifers),\", \",round(fmax/1e9,freq_cifers),\"] GHz\")\n",
    "else:\n",
    "    sys.exit(\"Invalid frequency span!\")\n",
    "# Get i_min, i_max for the defined band\n",
    "df = xoff[1] - xoff[0]\n",
    "i_min = round((fmin - xoff[0])/df)\n",
    "i_max = round(len(xoff) - 1 - (xoff[len(xoff)-1] - fmax)/df)\n",
    "n_pts = i_max - i_min\n",
    "\n",
    "band_averages = np.zeros((len(volts),len(freqs),len(ampls)))\n",
    "max_average = [0,0,0]    # Indexes of params for best band average\n",
    "for k in np.arange(0,len(volts)):\n",
    "    for j in np.arange(0,len(ampls)):\n",
    "        for i in np.arange(0,len(freqs)):\n",
    "            # Get desired dataset\n",
    "            group = \"/dc_\" + str(k) + \"/pumpfreq_\" + str(i) + \"/pumppow_\" + str(j)\n",
    "            try:\n",
    "                temp_xs, temp_ys = getDatasetValue(filename, group, 0)\n",
    "                # Remove the 'Off' measurement\n",
    "                temp_ys = temp_ys - yoff\n",
    "                # Focus on the defined BAND\n",
    "                xs = temp_xs[i_min:i_max]\n",
    "                ys = temp_ys[i_min:i_max]\n",
    "\n",
    "                band_averages[k,i,j] = np.mean(ys)\n",
    "                if band_averages[max_average[0],max_average[1],max_average[2]] < band_averages[k,i,j]:\n",
    "                    max_average = [k,i,j]\n",
    "            except:\n",
    "                print(i)\n",
    "\n",
    "# Get params for maximum band average\n",
    "best_voltage = volts[max_average[0]]\n",
    "best_freq = freqs[max_average[1]]\n",
    "best_pow = ampls[max_average[2]]\n",
    "print(\"Best params: \",best_voltage,\"V, \",best_freq,\"GHz, \",best_pow,\"dBm\")\n",
    "print(\"Best Band average gain: \",round(band_averages[max_average[0],max_average[1],max_average[2]],3),\"dB\")\n",
    "\n",
    "# Plot band average varying only Pump frequency (other two params fixed at 'optimal' values)\n",
    "fig_freq, ax_freq = plt.subplots()\n",
    "ax_freq.plot(freqs, band_averages[max_average[0],:,max_average[2]],'.-')\n",
    "ax_freq.set_title(\"Band average [\"+str(round(fmin/1e9,freq_cifers))+\", \"+str(round(fmax/1e9,freq_cifers))+\"] GHz\\nBias: \"+str(round(best_voltage,volt_cifers))+\"V; Pump Pow: \"+str(round(best_pow,ampl_cifers))+\"dBm\")\n",
    "ax_freq.set_xlabel(\"Pump frequency [GHz]\")\n",
    "ax_freq.set_ylabel(\"Averaged gain [dB]\")\n",
    "\n",
    "# Plot band average varying only Pump power (other two params fixed at 'optimal' values)\n",
    "fig_pow, ax_pow = plt.subplots()\n",
    "ax_pow.plot(ampls, band_averages[max_average[0],max_average[1],:],'.-')\n",
    "ax_pow.set_title(\"Band average [\"+str(round(fmin/1e9,freq_cifers))+\", \"+str(round(fmax/1e9,freq_cifers))+\"] GHz\\nBias: \"+str(round(best_voltage,volt_cifers))+\"V; Pump Freq: \"+str(round(best_freq,freq_cifers))+\"GHz\")\n",
    "ax_pow.set_xlabel(\"Pump power [dBm]\")\n",
    "ax_pow.set_ylabel(\"Averaged gain [dB]\")\n",
    "\n",
    "# Plot band average varying only Bias voltage (other two params fixed at 'optimal' values)\n",
    "fig_freq, ax_freq = plt.subplots()\n",
    "ax_freq.plot(volts, band_averages[:,max_average[1],max_average[2]],'.-')\n",
    "ax_freq.set_title(\"Band average [\"+str(round(fmin/1e9,freq_cifers))+\", \"+str(round(fmax/1e9,freq_cifers))+\"] GHz\\nPump Freq: \"+str(round(best_freq,freq_cifers))+\"GHz; Pump Pow: \"+str(round(best_pow,ampl_cifers))+\"dBm\")\n",
    "ax_freq.set_xlabel(\"Bias voltage [V]\")\n",
    "ax_freq.set_ylabel(\"Averaged gain [dB]\")"
   ]
  },
  {
   "cell_type": "code",
   "execution_count": null,
   "metadata": {},
   "outputs": [],
   "source": [
    "\"\"\"DELETE a dataset\"\"\"\n",
    "full_dataset_path = \"/group/dataset_to_delete\"\n",
    "deleteDataset(filename, full_dataset_path)"
   ]
  },
  {
   "cell_type": "code",
   "execution_count": null,
   "metadata": {},
   "outputs": [],
   "source": [
    "\"\"\"Save a dataset\"\"\"\n",
    "filename_save = \"save.h5\"\n",
    "full_dataset_path = \"/group/datasetname\"\n",
    "\n",
    "mat = [xs1, ys1]\n",
    "hf = h5py.File(filename_save, 'a')\n",
    "hf.create_dataset(full_dataset_path, data = mat)\n",
    "hf.close()"
   ]
  }
 ],
 "metadata": {
  "kernelspec": {
   "display_name": "Python 3.8.8 64-bit",
   "language": "python",
   "name": "python3"
  },
  "language_info": {
   "codemirror_mode": {
    "name": "ipython",
    "version": 3
   },
   "file_extension": ".py",
   "mimetype": "text/x-python",
   "name": "python",
   "nbconvert_exporter": "python",
   "pygments_lexer": "ipython3",
   "version": "3.8.8"
  },
  "orig_nbformat": 4,
  "vscode": {
   "interpreter": {
    "hash": "189b550c5a54b5087499bdd5ba77e857e00a6effe232207122d63c93e93ce421"
   }
  }
 },
 "nbformat": 4,
 "nbformat_minor": 2
}

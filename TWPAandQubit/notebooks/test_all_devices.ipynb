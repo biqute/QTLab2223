{
 "cells": [
  {
   "cell_type": "code",
   "execution_count": 7,
   "metadata": {},
   "outputs": [],
   "source": [
    "\"\"\"Establish a connection BOTH with:\n",
    " - Vna\n",
    " - DC generator (sim)\n",
    " - AC generator (sma) \n",
    "\"\"\"\n",
    "\n",
    "from ..src.vna import *\n",
    "IP = \"192.168.3.51\"\n",
    "vna_instr = vna.ManageVNA(IP)\n",
    "\n",
    "from ..src.sim import *\n",
    "resource = 'ASRL34::INSTR'\n",
    "sim_instr = sim.ManageSIM(resource)\n",
    "\n",
    "from ..src.sma import *\n",
    "resource = 'TCPIP0::192.168.3.2::INSTR'\n",
    "sma_instr = sma.ManageSMA(resource)\n"
   ]
  }
 ],
 "metadata": {
  "kernelspec": {
   "display_name": "Python 3.8.8 64-bit",
   "language": "python",
   "name": "python3"
  },
  "language_info": {
   "codemirror_mode": {
    "name": "ipython",
    "version": 3
   },
   "file_extension": ".py",
   "mimetype": "text/x-python",
   "name": "python",
   "nbconvert_exporter": "python",
   "pygments_lexer": "ipython3",
   "version": "3.8.8"
  },
  "orig_nbformat": 4,
  "vscode": {
   "interpreter": {
    "hash": "189b550c5a54b5087499bdd5ba77e857e00a6effe232207122d63c93e93ce421"
   }
  }
 },
 "nbformat": 4,
 "nbformat_minor": 2
}

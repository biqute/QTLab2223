{
 "cells": [
  {
   "cell_type": "code",
   "execution_count": null,
   "metadata": {},
   "outputs": [],
   "source": [
    "\"\"\"ESTABLISH A CONNECTION WITH THE DEVICE\"\"\"\n",
    "import vna\n",
    "import matplotlib.pyplot as plt\n",
    "\n",
    "IP = \"192.168.3.51\"\n",
    "instrument = vna.ManageVNA(IP)"
   ]
  },
  {
   "cell_type": "code",
   "execution_count": null,
   "metadata": {},
   "outputs": [],
   "source": [
    "\"\"\"SET THE DESIRED PARAMETER BEFORE PERFORMING THE MEASUREMENTS\"\"\"\n",
    "# Set [fmin,fmax] that is the frequency interval along which the scans are performed\n",
    "fmin = 1e9\n",
    "fmax = 3e9\n",
    "# Set the power of the monotone waves sent into the port 1 to measure the selected matrix element (e.g. S21)\n",
    "powerdBm = -15 #dBm\n",
    "# Set the number of equally spaced frequencies in the interval [fmin,fmax] sampled at each scan\n",
    "npoints = 10\n",
    "# Set the number of sweeps performed (that is the number of measurements whose average is returned)\n",
    "navgs = 2"
   ]
  },
  {
   "cell_type": "code",
   "execution_count": null,
   "metadata": {},
   "outputs": [],
   "source": [
    "\"\"\"\n",
    "PERFORM THE MEASURE\n",
    "We call the single_scan() method with the above parameters.\n",
    "The method returns:\n",
    "-freq: an array containing the sampled equally spaced frequencies.\n",
    "-I and Q: respectively the real and the imaginary part of the matrix element values corresponding to the frequencies in \"freq\".\n",
    "\"\"\"\n",
    "freq, I, Q = instrument.single_scan(fmin,fmax,powerdBm,npoints,navgs)\n",
    "# Here we calculate the matrix element in dB, form its real and imaginary parts\n",
    "S21 = vna.IQ_to_S21(I,Q)"
   ]
  },
  {
   "cell_type": "code",
   "execution_count": null,
   "metadata": {},
   "outputs": [],
   "source": [
    "plt.plot(freq,S21)\n",
    "plt.show()"
   ]
  }
 ],
 "metadata": {
  "kernelspec": {
   "display_name": "Python 3.7.3 32-bit",
   "language": "python",
   "name": "python3"
  },
  "language_info": {
   "codemirror_mode": {
    "name": "ipython",
    "version": 3
   },
   "file_extension": ".py",
   "mimetype": "text/x-python",
   "name": "python",
   "nbconvert_exporter": "python",
   "pygments_lexer": "ipython3",
   "version": "3.7.3 (v3.7.3:ef4ec6ed12, Mar 25 2019, 21:26:53) [MSC v.1916 32 bit (Intel)]"
  },
  "orig_nbformat": 4,
  "vscode": {
   "interpreter": {
    "hash": "04bcfaed1d5947c55ec395d6cc5902842b350954a43df2458331a2319f32184d"
   }
  }
 },
 "nbformat": 4,
 "nbformat_minor": 2
}

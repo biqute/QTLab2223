{
 "cells": [
  {
   "cell_type": "code",
   "execution_count": null,
   "metadata": {},
   "outputs": [],
   "source": [
    "\"\"\"ESTABLISH A CONNECTION WITH THE DEVICE\"\"\"\n",
    "import vna\n",
    "import matplotlib.pyplot as plt\n",
    "\n",
    "IP = \"192.168.3.51\"\n",
    "timeout = 25e4 #[milliseconds]\n",
    "max_npoints = 1e3  #if npoints > max_npoints the single scan is divided in more scans\n",
    "instrument = vna.ManageVNA(IP,timeout,max_npoints)"
   ]
  },
  {
   "cell_type": "code",
   "execution_count": null,
   "metadata": {},
   "outputs": [],
   "source": [
    "\"\"\"SET THE DESIRED PARAMETER BEFORE PERFORMING THE MEASUREMENTS\"\"\"\n",
    "# Set [fmin,fmax] that is the frequency interval along which the scans are performed\n",
    "fmin = 4e9\n",
    "fmax = 8e9\n",
    "# Set the power of the monotone waves sent into the port 1 to measure the selected matrix element (e.g. S21)\n",
    "powerdBm = -15 #dBm\n",
    "ifbw = 30 #Hz\n",
    "# Set the number of equally spaced frequencies in the interval [fmin,fmax] sampled at each scan\n",
    "npoints = 401\n",
    "# Set the number of sweeps performed (that is the number of measurements whose average is returned)\n",
    "navgs = 1"
   ]
  },
  {
   "cell_type": "code",
   "execution_count": null,
   "metadata": {},
   "outputs": [],
   "source": [
    "\"\"\"\n",
    "PERFORM THE MEASURE\n",
    "We call the single_scan() method with the above parameters.\n",
    "The method returns:\n",
    "-freq: an array containing the sampled equally spaced frequencies.\n",
    "-I and Q: respectively the real and the imaginary part of the matrix element values corresponding to the frequencies in \"freq\".\n",
    "\"\"\"\n",
    "instrument.set_IFBW(1e2)\n",
    "freq, I, Q = instrument.single_scan(fmin,fmax,powerdBm,npoints,navgs,1)\n",
    "S21dB = instrument.IQ_to_S21dB(I,Q)\n",
    "# Here we calculate the matrix element in dB, form its real and imaginary parts\n",
    "plt.plot(freq,S21dB)"
   ]
  },
  {
   "cell_type": "code",
   "execution_count": null,
   "metadata": {},
   "outputs": [],
   "source": [
    "\"\"\"\n",
    "Prepare VNA\n",
    "\"\"\"\n",
    "import time\n",
    "\n",
    "instrument.reset()\n",
    "time.sleep(3)\n",
    "instrument.set_mode(\"NA\")\n",
    "instrument.set_port(\"S21\")\n",
    "instrument.query_reset()"
   ]
  },
  {
   "cell_type": "code",
   "execution_count": null,
   "metadata": {},
   "outputs": [],
   "source": [
    "\"\"\"\n",
    "Perform AND SAVE the measure\n",
    "\"\"\"\n",
    "from many_instruments import *\n",
    "filename = \"03_03_4-8Ghz_15pts.h5\"\n",
    "group = \"Off\"\n",
    "\n",
    "acquire_S21(instrument,fmin,fmax,powerdBm,ifbw,npoints,navgs,filename,group,write_IQ=0)\n"
   ]
  }
 ],
 "metadata": {
  "kernelspec": {
   "display_name": "Python 3.8.8 64-bit",
   "language": "python",
   "name": "python3"
  },
  "language_info": {
   "codemirror_mode": {
    "name": "ipython",
    "version": 3
   },
   "file_extension": ".py",
   "mimetype": "text/x-python",
   "name": "python",
   "nbconvert_exporter": "python",
   "pygments_lexer": "ipython3",
   "version": "3.9.7"
  },
  "orig_nbformat": 4,
  "vscode": {
   "interpreter": {
    "hash": "189b550c5a54b5087499bdd5ba77e857e00a6effe232207122d63c93e93ce421"
   }
  }
 },
 "nbformat": 4,
 "nbformat_minor": 2
}

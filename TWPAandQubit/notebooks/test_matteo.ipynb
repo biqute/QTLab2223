{
 "cells": [
  {
   "cell_type": "code",
   "execution_count": null,
   "metadata": {},
   "outputs": [],
   "source": [
    "import numpy as np\n",
    "import h5py\n",
    "import pyplot.matplotlib as plt\n",
    "from h5utils import *\n",
    "from sys\n",
    "from many_instruments import *"
   ]
  },
  {
   "cell_type": "code",
   "execution_count": null,
   "metadata": {},
   "outputs": [],
   "source": [
    "\"\"\"ESTABLISH A CONNECTION WITH THE DEVICES\"\"\"\n",
    "import vna\n",
    "IP = \"192.168.3.51\"\n",
    "timeout = 25e3\n",
    "max_npoints = 1e3\n",
    "instr_vna = vna.ManageVNA(IP,timeout,max_npoints)\n",
    "import sma\n",
    "resource = 'TCPIP0::192.168.3.2::INSTR'\n",
    "instr_sma = sma.ManageSMA(resource)\n",
    "import sim\n",
    "resource = 'ASRL34::INSTR'\n",
    "instr_sim = sim.ManageSIM(resource)"
   ]
  },
  {
   "cell_type": "code",
   "execution_count": null,
   "metadata": {},
   "outputs": [],
   "source": [
    "\"\"\"SETTING BEST PARAMETERS FOR PARAMP\"\"\"\n",
    "freq_pump=15.72e9       #GHz\n",
    "power_pump=-13.243      #dBm\n",
    "dc_current=0.661        #mA\n",
    "R=343                   #Ohm\n",
    "dc_voltage=R*dc_current #mV\n"
   ]
  },
  {
   "cell_type": "code",
   "execution_count": null,
   "metadata": {},
   "outputs": [],
   "source": [
    "\"\"\"SETTING PARAMETERS FOR VNA\"\"\"\n",
    "fmin = 8e9\n",
    "fmax = 9e9\n",
    "powerdBm = -15 #dBm\n",
    "npoints = 401\n",
    "navgs = 1"
   ]
  },
  {
   "cell_type": "code",
   "execution_count": null,
   "metadata": {},
   "outputs": [],
   "source": [
    "\"\"\"INSERT FILE NAME\"\"\"\n",
    "filename=\"Data_qubit.h5\""
   ]
  },
  {
   "cell_type": "code",
   "execution_count": null,
   "metadata": {},
   "outputs": [],
   "source": [
    "\"\"\"SAVE MEASURE IN THE H5 FILE\"\"\"\n",
    "group=\"VNA_power\"+str(powerdBm) \n",
    "acquire_S21(instr_vna,fmin,fmax,powerdBm,npoints,navgs,filename,group)"
   ]
  },
  {
   "cell_type": "code",
   "execution_count": null,
   "metadata": {},
   "outputs": [],
   "source": [
    "\"\"\"SEARCH FOR THE MINIMUM\"\"\"\n",
    "data=getDatasetValue(filename,group,0)\n",
    "x=data[0]\n",
    "y=data[1]\n",
    "print(np.min(y))\n",
    "\n",
    "\n",
    "freq_min=\n",
    "freq_max=\n",
    "plotDatasetSpectrum(filename=filename,group=group,fmin=freq_min,fmax=freq_max)"
   ]
  }
 ],
 "metadata": {
  "language_info": {
   "name": "python"
  },
  "orig_nbformat": 4
 },
 "nbformat": 4,
 "nbformat_minor": 2
}

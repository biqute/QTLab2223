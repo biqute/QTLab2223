{
 "cells": [
  {
   "cell_type": "code",
   "execution_count": null,
   "metadata": {},
   "outputs": [],
   "source": [
    "\n",
    "\n",
    "\n",
    "\n",
    "\n",
    "import numpy as np\n",
    "import h5py\n",
    "import pyplot.matplotlib as plt\n",
    "from h5utils import *\n",
    "from sys\n",
    "from many_instruments import *"
   ]
  },
  {
   "cell_type": "code",
   "execution_count": null,
   "metadata": {},
   "outputs": [],
   "source": [
    "\"\"\"ESTABLISH A CONNECTION WITH THE DEVICES\"\"\"\n",
    "import vna\n",
    "IP = \"192.168.3.51\"\n",
    "timeout = 25e3\n",
    "max_npoints = 1e3\n",
    "instr_vna = vna.ManageVNA(IP,timeout,max_npoints)\n",
    "import sma\n",
    "resource = 'TCPIP0::192.168.3.2::INSTR'\n",
    "instr_sma = sma.ManageSMA(resource)\n",
    "import sim\n",
    "resource = 'ASRL34::INSTR'\n",
    "instr_sim = sim.ManageSIM(resource)"
   ]
  },
  {
   "cell_type": "code",
   "execution_count": null,
   "metadata": {},
   "outputs": [],
   "source": [
    "\"\"\"SETTING BEST PARAMETERS FOR PARAMP\"\"\"\n",
    "freq_pump=15.72e9       #GHz\n",
    "power_pump=-13.243      #dBm\n",
    "dc_current=0.661        #mA\n",
    "R=343                   #Ohm\n",
    "dc_voltage=R*dc_current #mV\n"
   ]
  },
  {
   "cell_type": "code",
   "execution_count": null,
   "metadata": {},
   "outputs": [],
   "source": [
    "\"\"\"SETTING PARAMETERS FOR VNA\"\"\"\n",
    "fmin = 8e9\n",
    "fmax = 9e9\n",
    "powerdBm = -15 #dBm\n",
    "npoints = 401\n",
    "navgs = 1"
   ]
  },
  {
   "cell_type": "code",
   "execution_count": null,
   "metadata": {},
   "outputs": [],
   "source": [
    "\"\"\"INSERT FILE NAME\"\"\"\n",
    "filename=\"Data_qubit.h5\""
   ]
  },
  {
   "cell_type": "code",
   "execution_count": null,
   "metadata": {},
   "outputs": [],
   "source": [
    "\"\"\"SAVE MEASURE IN THE H5 FILE\"\"\"\n",
    "group=\"VNA_power\"+str(powerdBm) \n",
    "acquire_S21(instr_vna,fmin,fmax,powerdBm,npoints,navgs,filename,group)"
   ]
  },
  {
   "cell_type": "code",
   "execution_count": null,
   "metadata": {},
   "outputs": [],
   "source": [
    "\"\"\"SEARCH FOR THE MINIMUM\"\"\"\n",
    "data=getDatasetValue(filename,group,0)\n",
    "x=data[0]\n",
    "y=data[1]\n",
    "print(np.min(y))\n",
    "\n",
    "\n",
    "freq_min=\n",
    "freq_max=\n",
    "plotDatasetSpectrum(filename=filename,group=group,fmin=freq_min,fmax=freq_max)"
   ]
  },
  {
   "cell_type": "code",
   "execution_count": 5,
   "metadata": {},
   "outputs": [
    {
     "data": {
      "text/plain": [
       "array([0., 0., 0., 0., 0., 0., 0., 0., 0., 0.])"
      ]
     },
     "execution_count": 5,
     "metadata": {},
     "output_type": "execute_result"
    }
   ],
   "source": [
    "import numpy as np\n",
    "freq = np.zeros(10)\n",
    "freq"
   ]
  },
  {
   "cell_type": "code",
   "execution_count": null,
   "metadata": {},
   "outputs": [],
   "source": [
    "\"\"\"VARING VNA POWER FOR MEASURING THE LAMB SHIFT\"\"\"\n",
    "freq_min=8e9\n",
    "freq_max=9e9\n",
    "power_max=-10 #dBm\n",
    "power_min=-30 #dBm \n",
    "N_scan=100\n",
    "\n",
    "\n",
    "\n",
    "#Firstly i take a wide scan in the power spectrum and save the VNA measure\n",
    "powers = np.linspace(power_min, power_max, N_scan)\n",
    "for powerdBm in powers:\n",
    "    group=\"VNA_power\"+str(round(powerdBm,3))\n",
    "    acquire_S21(instr_vna,fmin,fmax,powerdBm,npoints,navgs,filename,group)\n",
    "\n",
    "#after i look in each group and search for the minimun in a specific range of frequencies  \n",
    "freq = np.zeros(N_scan)\n",
    "ampt = np.zeros(N_scan)\n",
    "for i in np.arange(0,len(powers)):\n",
    "    powerdBm = powers[i]\n",
    "    group=\"VNA_power\"+str(round(powerdBm,3))\n",
    "    data=getDatasetValue(filename,group,0)\n",
    "    x=data[0]\n",
    "    y=data[1]\n",
    "    #now i search the x at which i have the minimum     \n",
    "    i_min = np.argmin(y)\n",
    "    min_x = x[i_min]\n",
    "    freq[i] = min_x\n",
    "    ampt[i] = powerdBm\n",
    "\n",
    "+#Plotting power vs freq of the minima\n",
    "fig,ax = plt.subplots()\n",
    "ax.plot(freq,ampt)\n",
    "ax.set_xlabel('freq')\n",
    "ax.set_ylabel('power')\n",
    "ax.grid(True)\n",
    "plt.show()\n",
    "\n",
    "\n",
    "\n",
    "    \n",
    "    \n",
    "\n",
    "\n",
    "\n",
    "    \n"
   ]
  },
  {
   "cell_type": "code",
   "execution_count": 3,
   "metadata": {},
   "outputs": [
    {
     "ename": "TypeError",
     "evalue": "cannot unpack non-iterable numpy.int32 object",
     "output_type": "error",
     "traceback": [
      "\u001b[1;31m---------------------------------------------------------------------------\u001b[0m",
      "\u001b[1;31mTypeError\u001b[0m                                 Traceback (most recent call last)",
      "\u001b[1;32mc:\\Users\\franc\\Downloads\\test_matteo.ipynb Cell 9\u001b[0m in \u001b[0;36m<cell line: 3>\u001b[1;34m()\u001b[0m\n\u001b[0;32m      <a href='vscode-notebook-cell:/c%3A/Users/franc/Downloads/test_matteo.ipynb#X11sZmlsZQ%3D%3D?line=0'>1</a>\u001b[0m \u001b[39mimport\u001b[39;00m \u001b[39mnumpy\u001b[39;00m \u001b[39mas\u001b[39;00m \u001b[39mnp\u001b[39;00m\n\u001b[0;32m      <a href='vscode-notebook-cell:/c%3A/Users/franc/Downloads/test_matteo.ipynb#X11sZmlsZQ%3D%3D?line=1'>2</a>\u001b[0m x \u001b[39m=\u001b[39m [\u001b[39m1\u001b[39m,\u001b[39m2\u001b[39m,\u001b[39m3\u001b[39m,\u001b[39m0\u001b[39m,\u001b[39m1\u001b[39m]\n\u001b[1;32m----> <a href='vscode-notebook-cell:/c%3A/Users/franc/Downloads/test_matteo.ipynb#X11sZmlsZQ%3D%3D?line=2'>3</a>\u001b[0m a, b \u001b[39m=\u001b[39m np\u001b[39m.\u001b[39mmin(x)\n",
      "\u001b[1;31mTypeError\u001b[0m: cannot unpack non-iterable numpy.int32 object"
     ]
    }
   ],
   "source": [
    "import numpy as np\n",
    "x = [1,2,3,0,1]\n",
    "a, b = np.min(x)"
   ]
  }
 ],
 "metadata": {
  "kernelspec": {
   "display_name": "base",
   "language": "python",
   "name": "python3"
  },
  "language_info": {
   "codemirror_mode": {
    "name": "ipython",
    "version": 3
   },
   "file_extension": ".py",
   "mimetype": "text/x-python",
   "name": "python",
   "nbconvert_exporter": "python",
   "pygments_lexer": "ipython3",
   "version": "3.9.12"
  },
  "orig_nbformat": 4
 },
 "nbformat": 4,
 "nbformat_minor": 2
}

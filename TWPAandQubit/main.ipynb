{
 "cells": [
  {
   "cell_type": "code",
   "execution_count": null,
   "metadata": {},
   "outputs": [],
   "source": [
    "import vna\n",
    "import matplotlib.pyplot as plt\n",
    "IP = \"192.168.3.51\"\n",
    "strumento1 = vna.manage_instrument(IP)"
   ]
  },
  {
   "cell_type": "code",
   "execution_count": null,
   "metadata": {},
   "outputs": [],
   "source": [
    "fmin = 1e9\n",
    "fmax = 3e9\n",
    "powerdBm = -15\n",
    "npoints = 10\n",
    "navgs = 2\n",
    "freq, I, Q = strumento1.singleScan(fmin,fmax,powerdBm,npoints,navgs)\n",
    "S21 = vna.IQtoS21(I,Q)\n",
    "\n",
    "plt.plot(freq,S21)\n",
    "plt.show()"
   ]
  }
 ],
 "metadata": {
  "kernelspec": {
   "display_name": "Python 3.7.3 32-bit",
   "language": "python",
   "name": "python3"
  },
  "language_info": {
   "name": "python",
   "version": "3.7.3"
  },
  "orig_nbformat": 4,
  "vscode": {
   "interpreter": {
    "hash": "04bcfaed1d5947c55ec395d6cc5902842b350954a43df2458331a2319f32184d"
   }
  }
 },
 "nbformat": 4,
 "nbformat_minor": 2
}

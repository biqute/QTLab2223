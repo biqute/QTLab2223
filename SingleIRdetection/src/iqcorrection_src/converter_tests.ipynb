{
 "cells": [
  {
   "cell_type": "code",
   "execution_count": 1,
   "metadata": {},
   "outputs": [],
   "source": [
    "spectra_path = '\\\\Users\\\\alexb\\\\OneDrive\\\\Documenti\\\\Lab_locale\\\\iqcorrection\\\\iqcorrection_src\\\\Data\\\\Spectra'\n",
    "run_num = 34\n",
    "datatype = 'MixCh'\n",
    "meas_num = 1\n",
    "save_path = '\\\\Users\\\\alexb\\\\OneDrive\\\\Documenti\\\\Lab_locale\\\\iqcorrection\\\\iqcorrection_src\\\\Save'\n",
    "iqpath = '\\\\Users\\\\alexb\\\\OneDrive\\\\Documenti\\\\Lab_locale\\\\iqcorrection\\\\iqcorrection_src\\\\IQ'\n",
    "iqheader = ['IQ0Ch1off', 'IQ0Ch2off']\n",
    "nch = 2\n",
    "mode = 0"
   ]
  },
  {
   "attachments": {},
   "cell_type": "markdown",
   "metadata": {},
   "source": [
    "Here follows a cell where we test the first fundamental script: **LoadConfiguration**. This script is needed in order to load all the useful settings for the calibration from the proper log file, available in the spectra path."
   ]
  },
  {
   "cell_type": "code",
   "execution_count": 2,
   "metadata": {},
   "outputs": [
    {
     "data": {
      "text/plain": [
       "[['ADCRange', '5.000000'],\n",
       " ['Rate', '2500000.000000'],\n",
       " ['Nsample', '4000'],\n",
       " ['Freerun', \"'TRUE'\"],\n",
       " ['SubtractBaseline', \"'TRUE'\"],\n",
       " ['TriggerLevel', '0.400000'],\n",
       " ['Hysteresis', '0.100000'],\n",
       " ['TriggerChannel', '0'],\n",
       " ['Slope', '10280'],\n",
       " ['Pretirgger', '200'],\n",
       " ['FrequencyCH1', '5785937577.000000'],\n",
       " ['FrequencyCH2', '5785937577.000000'],\n",
       " ['Setfrequency', \"'TRUE'\"],\n",
       " ['Temperature', '40.000000'],\n",
       " ['AttenuazioneCh1', '12.000000'],\n",
       " ['AttenuazioneCh2', '12.000000'],\n",
       " ['Chip', \"'Termicinuovi'\"],\n",
       " ['Note', \"'Calibrazionemixer'\"]]"
      ]
     },
     "execution_count": 2,
     "metadata": {},
     "output_type": "execute_result"
    }
   ],
   "source": [
    "import loadconfiguration\n",
    "\n",
    "spectra_path = '\\\\Users\\\\alexb\\\\OneDrive\\\\Documenti\\\\Lab_locale\\\\iqcorrection\\\\iqcorrection_src\\\\Data\\\\Spectra'\n",
    "run_num = 34\n",
    "datatype = 'MixCh'\n",
    "meas_num = 1\n",
    "loadconfiguration.LoadConfiguration(spectra_path + \"\\\\run\" + str(run_num) + '\\\\' + datatype + str(meas_num) + '_5785937577' + '.log')\n",
    "#print(map)"
   ]
  },
  {
   "attachments": {},
   "cell_type": "markdown",
   "metadata": {},
   "source": [
    "Here follows a cell where we test the second fundamental script: **GetSpectraFile**. This script selects the necessary file in the *\\Spectra\\run* folder and stores them in a list. Also, it prints the files search result in a logfile, whose path must be specified in the function scope as well as the path to the files we want to retrieve."
   ]
  },
  {
   "cell_type": "code",
   "execution_count": 3,
   "metadata": {},
   "outputs": [
    {
     "name": "stdout",
     "output_type": "stream",
     "text": [
      "['MixCh1_5785937577.bin', 'run34_spectra0.000']\n"
     ]
    }
   ],
   "source": [
    "import getspectrafile\n",
    "\n",
    "logpath = save_path  + '\\\\run' + str(run_num) + '\\\\' + datatype + str(meas_num) +'.log'\n",
    "data_base_filename = spectra_path + '\\\\' + 'run' + str(run_num) + '\\\\'\n",
    "list = getspectrafile.GetSpectraFile(data_base_filename, logpath)\n",
    "print(list)"
   ]
  },
  {
   "cell_type": "code",
   "execution_count": null,
   "metadata": {},
   "outputs": [],
   "source": []
  }
 ],
 "metadata": {
  "kernelspec": {
   "display_name": "Python 3",
   "language": "python",
   "name": "python3"
  },
  "language_info": {
   "codemirror_mode": {
    "name": "ipython",
    "version": 3
   },
   "file_extension": ".py",
   "mimetype": "text/x-python",
   "name": "python",
   "nbconvert_exporter": "python",
   "pygments_lexer": "ipython3",
   "version": "3.10.11"
  },
  "orig_nbformat": 4
 },
 "nbformat": 4,
 "nbformat_minor": 2
}

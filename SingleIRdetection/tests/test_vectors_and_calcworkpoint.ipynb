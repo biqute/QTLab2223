{
 "cells": [
  {
   "cell_type": "code",
   "execution_count": 73,
   "metadata": {},
   "outputs": [],
   "source": [
    "import numpy as np\n",
    "from scipy import stats\n",
    "import mathfunctions as mathf"
   ]
  },
  {
   "cell_type": "code",
   "execution_count": 74,
   "metadata": {},
   "outputs": [
    {
     "name": "stdout",
     "output_type": "stream",
     "text": [
      "[[0.82854209 0.56266984 0.85626931 0.96654325]\n",
      " [0.39735142 0.99469414 0.95453391 0.12736522]\n",
      " [0.95251538 0.19565402 0.59452926 0.88240193]\n",
      " [0.38640384 0.58271618 0.50508356 0.57361778]\n",
      " [0.15223872 0.92398026 0.91894997 0.16207546]\n",
      " [0.87709014 0.72292051 0.76818582 0.57866036]\n",
      " [0.65085683 0.70042638 0.68146256 0.42859766]\n",
      " [0.25274953 0.10596337 0.10388612 0.14825328]]\n"
     ]
    }
   ],
   "source": [
    "data = np.random.rand(8, 4)\n",
    "print(data)"
   ]
  },
  {
   "cell_type": "code",
   "execution_count": 75,
   "metadata": {},
   "outputs": [
    {
     "name": "stdout",
     "output_type": "stream",
     "text": [
      "[[0.82854209 0.39735142 0.95251538 0.38640384 0.15223872 0.87709014\n",
      "  0.65085683 0.25274953]\n",
      " [0.56266984 0.99469414 0.19565402 0.58271618 0.92398026 0.72292051\n",
      "  0.70042638 0.10596337]\n",
      " [0.85626931 0.95453391 0.59452926 0.50508356 0.91894997 0.76818582\n",
      "  0.68146256 0.10388612]\n",
      " [0.96654325 0.12736522 0.88240193 0.57361778 0.16207546 0.57866036\n",
      "  0.42859766 0.14825328]]\n"
     ]
    }
   ],
   "source": [
    "data = data.T\n",
    "print(data)"
   ]
  },
  {
   "cell_type": "code",
   "execution_count": 76,
   "metadata": {},
   "outputs": [
    {
     "name": "stdout",
     "output_type": "stream",
     "text": [
      "idata1 = \n",
      " [[0.82854209 0.39735142 0.95251538 0.38640384 0.15223872 0.87709014\n",
      "  0.65085683 0.25274953]\n",
      " [0.85626931 0.95453391 0.59452926 0.50508356 0.91894997 0.76818582\n",
      "  0.68146256 0.10388612]] \n",
      "qdata1 = \n",
      " [[0.56266984 0.99469414 0.19565402 0.58271618 0.92398026 0.72292051\n",
      "  0.70042638 0.10596337]\n",
      " [0.96654325 0.12736522 0.88240193 0.57361778 0.16207546 0.57866036\n",
      "  0.42859766 0.14825328]]\n"
     ]
    }
   ],
   "source": [
    "coli = [i for i in range(len(data)) if i % 2 == 0]\n",
    "colq = [i for i in range(len(data)) if i % 2 != 0]\n",
    "idata1 = data[coli, :]\n",
    "qdata1 = data[colq, :]\n",
    "print('idata1 = \\n', idata1, '\\nqdata1 = \\n', qdata1)"
   ]
  },
  {
   "cell_type": "code",
   "execution_count": 77,
   "metadata": {},
   "outputs": [
    {
     "name": "stdout",
     "output_type": "stream",
     "text": [
      "signali = \n",
      " [0.82854209 0.85626931 0.39735142 0.95453391 0.95251538 0.59452926\n",
      " 0.38640384 0.50508356 0.15223872 0.91894997 0.87709014 0.76818582\n",
      " 0.65085683 0.68146256 0.25274953 0.10388612] \n",
      "signalq = \n",
      " [0.56266984 0.96654325 0.99469414 0.12736522 0.19565402 0.88240193\n",
      " 0.58271618 0.57361778 0.92398026 0.16207546 0.72292051 0.57866036\n",
      " 0.70042638 0.42859766 0.10596337 0.14825328]\n"
     ]
    }
   ],
   "source": [
    "signali = np.ravel(idata1.T)\n",
    "signalq = np.ravel(qdata1.T)\n",
    "print('signali = \\n', signali, '\\nsignalq = \\n', signalq)"
   ]
  },
  {
   "cell_type": "code",
   "execution_count": 78,
   "metadata": {},
   "outputs": [
    {
     "name": "stdout",
     "output_type": "stream",
     "text": [
      "avg =  [0.8424057  0.67594267 0.77352232 0.4457437  0.53559434 0.82263798\n",
      " 0.66615969 0.17831782] \n",
      "idata1 =  [[0.82854209 0.39735142 0.95251538 0.38640384 0.15223872 0.87709014\n",
      "  0.65085683 0.25274953]\n",
      " [0.85626931 0.95453391 0.59452926 0.50508356 0.91894997 0.76818582\n",
      "  0.68146256 0.10388612]] \n",
      "idata1 - avg =  [[-0.01386361 -0.27859124  0.17899306 -0.05933986 -0.38335563  0.05445216\n",
      "  -0.01530287  0.0744317 ]\n",
      " [ 0.01386361  0.27859124 -0.17899306  0.05933986  0.38335563 -0.05445216\n",
      "   0.01530287 -0.0744317 ]]\n"
     ]
    }
   ],
   "source": [
    "avg = stats.trim_mean(idata1, 0)\n",
    "print('avg = ', avg, '\\nidata1 = ', idata1,'\\nidata1 - avg = ', idata1 - avg)"
   ]
  },
  {
   "cell_type": "code",
   "execution_count": 81,
   "metadata": {},
   "outputs": [
    {
     "name": "stdout",
     "output_type": "stream",
     "text": [
      "[0.01386361 0.27859124 0.17899306 0.05933986 0.38335563 0.05445216\n",
      " 0.01530287 0.0744317 ] [0 0 0 0 0 0 0 0]\n"
     ]
    }
   ],
   "source": [
    "diff = np.abs(idata1 - avg)\n",
    "[max, pos] = mathf.MaxColumnWise(diff)\n",
    "print(max, pos)"
   ]
  },
  {
   "cell_type": "code",
   "execution_count": 83,
   "metadata": {},
   "outputs": [
    {
     "name": "stdout",
     "output_type": "stream",
     "text": [
      "[  7 100   9] [1 2 0]\n"
     ]
    }
   ],
   "source": [
    "matrix = [[1, 4, 9], [7, 2, 0], [6, 100, 0]]\n",
    "[max, pos] = mathf.MaxColumnWise(matrix)\n",
    "print (max, pos)"
   ]
  },
  {
   "cell_type": "code",
   "execution_count": 85,
   "metadata": {},
   "outputs": [
    {
     "name": "stdout",
     "output_type": "stream",
     "text": [
      "sus\n"
     ]
    }
   ],
   "source": [
    "if pos[0]/1 > 0:\n",
    "    print('sus')"
   ]
  },
  {
   "cell_type": "code",
   "execution_count": null,
   "metadata": {},
   "outputs": [],
   "source": []
  }
 ],
 "metadata": {
  "kernelspec": {
   "display_name": "Python 3",
   "language": "python",
   "name": "python3"
  },
  "language_info": {
   "codemirror_mode": {
    "name": "ipython",
    "version": 3
   },
   "file_extension": ".py",
   "mimetype": "text/x-python",
   "name": "python",
   "nbconvert_exporter": "python",
   "pygments_lexer": "ipython3",
   "version": "3.10.11"
  },
  "orig_nbformat": 4
 },
 "nbformat": 4,
 "nbformat_minor": 2
}

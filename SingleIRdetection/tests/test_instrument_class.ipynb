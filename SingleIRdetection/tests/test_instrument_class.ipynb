{
 "cells": [
  {
   "cell_type": "code",
   "execution_count": 1,
   "metadata": {},
   "outputs": [],
   "source": [
    "\n",
    "import matplotlib.pyplot as plt\n",
    "import pandas as pd\n",
    "import struct\n",
    "import pyvisa\n",
    "import instruments\n"
   ]
  },
  {
   "cell_type": "markdown",
   "metadata": {},
   "source": [
    "Don't know why, but when you want to recompile after having modified the library you have to restsrt the kernel first."
   ]
  },
  {
   "cell_type": "markdown",
   "metadata": {},
   "source": [
    "# Test classe VNA"
   ]
  },
  {
   "cell_type": "code",
   "execution_count": 2,
   "metadata": {},
   "outputs": [
    {
     "name": "stdout",
     "output_type": "stream",
     "text": [
      "VNA object created correctly!\n",
      "\n",
      "Default number of points for a sweep: 1601\n"
     ]
    }
   ],
   "source": [
    "myVNA = instruments.VNAHandler()"
   ]
  },
  {
   "cell_type": "code",
   "execution_count": 3,
   "metadata": {},
   "outputs": [
    {
     "name": "stdout",
     "output_type": "stream",
     "text": [
      "1601\n"
     ]
    }
   ],
   "source": [
    "myVNA.beep()\n",
    "print(myVNA.points)"
   ]
  },
  {
   "cell_type": "code",
   "execution_count": 4,
   "metadata": {},
   "outputs": [
    {
     "name": "stdout",
     "output_type": "stream",
     "text": [
      "1601\n"
     ]
    }
   ],
   "source": [
    "myVNA.set_range_freq(3, 6)\n",
    "frequenze = myVNA.freqs\n",
    "print(len(frequenze))"
   ]
  },
  {
   "cell_type": "code",
   "execution_count": 5,
   "metadata": {},
   "outputs": [
    {
     "data": {
      "image/png": "[encoded data removed]",
      "text/plain": [
       "<Figure size 432x288 with 1 Axes>"
      ]
     },
     "metadata": {
      "needs_background": "light"
     },
     "output_type": "display_data"
    }
   ],
   "source": [
    "i, q = myVNA.get_data('polar')"
   ]
  },
  {
   "cell_type": "markdown",
   "metadata": {},
   "source": [
    "# Test classe Fridge"
   ]
  },
  {
   "cell_type": "code",
   "execution_count": 6,
   "metadata": {},
   "outputs": [
    {
     "name": "stdout",
     "output_type": "stream",
     "text": [
      "Fridgeboy object created correctly!\n",
      "\n"
     ]
    }
   ],
   "source": [
    "myfridge = instruments.FridgeHandler()"
   ]
  },
  {
   "cell_type": "code",
   "execution_count": 7,
   "metadata": {},
   "outputs": [
    {
     "name": "stdout",
     "output_type": "stream",
     "text": [
      "\n",
      "\n",
      "?\n",
      "['?R21\\x00\\x00\\x00\\x00\\x00\\x00\\x00\\x00\\x00\\x00\\x00\\r\\n']\n",
      "['R+06999\\r\\n']\n",
      "6999.0\n"
     ]
    }
   ],
   "source": [
    "#print(myfridge.get_sensor(14))\n",
    "print('\\n')\n",
    "temp = myfridge.get_sensor(2)\n",
    "\n",
    "\n",
    "print(temp)"
   ]
  },
  {
   "cell_type": "code",
   "execution_count": 9,
   "metadata": {},
   "outputs": [
    {
     "name": "stdout",
     "output_type": "stream",
     "text": [
      "?\n",
      "['R1000.\\r\\n']\n",
      "?\n",
      "['R+06999\\r\\n']\n",
      "?\n",
      "['R+01999\\r\\n']\n",
      "?\n",
      "['R+04541\\r\\n']\n",
      "?\n",
      "['R+06999\\r\\n']\n",
      "?\n",
      "['R+06999\\r\\n']\n",
      "?\n",
      "['R1000.\\r\\n']\n",
      "?\n",
      "['R+06999\\r\\n']\n",
      "?\n",
      "['R+08734\\r\\n']\n",
      "?\n",
      "['R+04541\\r\\n']\n",
      "?\n",
      "['R+06999\\r\\n']\n",
      "?\n",
      "['R+06999\\r\\n']\n",
      "?\n",
      "['R1000.\\r\\n']\n",
      "?\n",
      "['R+06999\\r\\n']\n",
      "?\n",
      "['R+08734\\r\\n']\n",
      "?\n",
      "['R+04543\\r\\n']\n",
      "?\n",
      "['R+06999\\r\\n']\n",
      "?\n",
      "['R+06999\\r\\n']\n",
      "?\n",
      "['R1000.\\r\\n']\n",
      "?\n",
      "['R+06999\\r\\n']\n",
      "?\n",
      "['R+08731\\r\\n']\n",
      "?\n",
      "['R+04542\\r\\n']\n",
      "?\n",
      "['R+06999\\r\\n']\n",
      "?\n",
      "['R+06999\\r\\n']\n",
      "?\n",
      "['R1000.\\r\\n']\n",
      "?\n",
      "['R+06999\\r\\n']\n",
      "?\n",
      "['R+08731\\r\\n']\n",
      "?\n",
      "['R+04543\\r\\n']\n",
      "?\n",
      "['R+00040\\r\\n']\n",
      "I found a temperature value out of range. I am going to sleep for 10 seconds\n",
      "?\n",
      "['R1000.\\r\\n']\n",
      "?\n",
      "['R+06999\\r\\n']\n",
      "?\n",
      "['R+08732\\r\\n']\n",
      "?\n",
      "['R+04541\\r\\n']\n",
      "?\n",
      "['R+00040\\r\\n']\n",
      "I found a temperature value out of range. I am going to sleep for 10 seconds\n",
      "?\n",
      "['R1000.\\r\\n']\n",
      "?\n",
      "['R+06999\\r\\n']\n",
      "?\n",
      "['R+08733\\r\\n']\n",
      "?\n",
      "['R+04543\\r\\n']\n",
      "?\n",
      "['R+06999\\r\\n']\n",
      "?\n",
      "['R+06999\\r\\n']\n",
      "?\n",
      "['R1000.\\r\\n']\n",
      "?\n",
      "['R+06999\\r\\n']\n",
      "?\n",
      "['R+08733\\r\\n']\n",
      "?\n",
      "['R+04543\\r\\n']\n",
      "?\n",
      "['R+06999\\r\\n']\n",
      "?\n",
      "['R+06999\\r\\n']\n",
      "?\n",
      "['R1000.\\r\\n']\n",
      "?\n",
      "['R+06999\\r\\n']\n",
      "?\n",
      "['R+08729\\r\\n']\n",
      "?\n",
      "['R+04545\\r\\n']\n",
      "?\n",
      "['R+06999\\r\\n']\n",
      "?\n",
      "['R+06999\\r\\n']\n",
      "?\n",
      "['R1000.\\r\\n']\n",
      "?\n",
      "['R+06999\\r\\n']\n",
      "?\n",
      "['R+08731\\r\\n']\n",
      "?\n",
      "['R+04542\\r\\n']\n",
      "?\n",
      "['R+06999\\r\\n']\n",
      "?\n",
      "['R+06999\\r\\n']\n",
      "?\n",
      "['R1000.\\r\\n']\n",
      "?\n",
      "['R+06999\\r\\n']\n",
      "?\n",
      "['R+08730\\r\\n']\n",
      "?\n",
      "['R+04542\\r\\n']\n",
      "?\n",
      "['R+06999\\r\\n']\n",
      "?\n",
      "['R+06999\\r\\n']\n",
      "Temperature is stable and fridgeboy is ready!\n"
     ]
    },
    {
     "data": {
      "text/plain": [
       "True"
      ]
     },
     "execution_count": 9,
     "metadata": {},
     "output_type": "execute_result"
    }
   ],
   "source": [
    "myfridge.check_stability(temp, temp/10, 5, 1, 10)"
   ]
  },
  {
   "cell_type": "markdown",
   "metadata": {},
   "source": [
    "# Test FastGiorgio"
   ]
  },
  {
   "cell_type": "code",
   "execution_count": 3,
   "metadata": {},
   "outputs": [
    {
     "data": {
      "text/plain": [
       "'2dc6c0'"
      ]
     },
     "execution_count": 3,
     "metadata": {},
     "output_type": "execute_result"
    }
   ],
   "source": [
    "hex(3000000).replace(\"0x\",\"\")\n"
   ]
  },
  {
   "cell_type": "code",
   "execution_count": null,
   "metadata": {},
   "outputs": [],
   "source": []
  }
 ],
 "metadata": {
  "kernelspec": {
   "display_name": "Python 3.8.6 ('lab2021')",
   "language": "python",
   "name": "python3"
  },
  "language_info": {
   "codemirror_mode": {
    "name": "ipython",
    "version": 3
   },
   "file_extension": ".py",
   "mimetype": "text/x-python",
   "name": "python",
   "nbconvert_exporter": "python",
   "pygments_lexer": "ipython3",
   "version": "3.8.6"
  },
  "orig_nbformat": 4,
  "vscode": {
   "interpreter": {
    "hash": "43de8b5b5c62f2bc49332b4876e1ef0dfe366f42b6cda6976bdf5ff5cdf99658"
   }
  }
 },
 "nbformat": 4,
 "nbformat_minor": 2
}
